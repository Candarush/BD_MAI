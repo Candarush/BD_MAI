{
 "cells": [
  {
   "cell_type": "code",
   "execution_count": 1,
   "metadata": {},
   "outputs": [
    {
     "ename": "AttributeError",
     "evalue": "'Ui_Dialog' object has no attribute 'b1'",
     "output_type": "error",
     "traceback": [
      "\u001b[1;31m---------------------------------------------------------------------------\u001b[0m",
      "\u001b[1;31mAttributeError\u001b[0m                            Traceback (most recent call last)",
      "\u001b[1;32m<ipython-input-1-c82ed58394b3>\u001b[0m in \u001b[0;36m<module>\u001b[1;34m\u001b[0m\n\u001b[0;32m     51\u001b[0m \u001b[0mui\u001b[0m\u001b[1;33m.\u001b[0m\u001b[0mpushButton\u001b[0m\u001b[1;33m.\u001b[0m\u001b[0mclicked\u001b[0m\u001b[1;33m.\u001b[0m\u001b[0mconnect\u001b[0m\u001b[1;33m(\u001b[0m \u001b[0mtransp\u001b[0m \u001b[1;33m)\u001b[0m\u001b[1;33m\u001b[0m\u001b[1;33m\u001b[0m\u001b[0m\n\u001b[0;32m     52\u001b[0m \u001b[0mui\u001b[0m\u001b[1;33m.\u001b[0m\u001b[0mpushButton_3\u001b[0m\u001b[1;33m.\u001b[0m\u001b[0mclicked\u001b[0m\u001b[1;33m.\u001b[0m\u001b[0mconnect\u001b[0m\u001b[1;33m(\u001b[0m \u001b[0mview_BD\u001b[0m\u001b[1;33m)\u001b[0m\u001b[1;33m\u001b[0m\u001b[1;33m\u001b[0m\u001b[0m\n\u001b[1;32m---> 53\u001b[1;33m \u001b[0mdi\u001b[0m\u001b[1;33m.\u001b[0m\u001b[0mb1\u001b[0m\u001b[1;33m.\u001b[0m\u001b[0mclicked\u001b[0m\u001b[1;33m.\u001b[0m\u001b[0mconnect\u001b[0m\u001b[1;33m(\u001b[0m\u001b[0mhi\u001b[0m\u001b[1;33m)\u001b[0m\u001b[1;33m\u001b[0m\u001b[1;33m\u001b[0m\u001b[0m\n\u001b[0m\u001b[0;32m     54\u001b[0m \u001b[0msys\u001b[0m\u001b[1;33m.\u001b[0m\u001b[0mexit\u001b[0m\u001b[1;33m(\u001b[0m\u001b[0mapp\u001b[0m\u001b[1;33m.\u001b[0m\u001b[0mexec_\u001b[0m\u001b[1;33m(\u001b[0m\u001b[1;33m)\u001b[0m\u001b[1;33m)\u001b[0m\u001b[1;33m\u001b[0m\u001b[1;33m\u001b[0m\u001b[0m\n",
      "\u001b[1;31mAttributeError\u001b[0m: 'Ui_Dialog' object has no attribute 'b1'"
     ]
    }
   ],
   "source": [
    "import sys\n",
    "import os\n",
    "import pyodbc\n",
    "import func\n",
    "from PyQt5 import QtCore, QtGui, QtWidgets\n",
    "from test import Ui_MainWindow\n",
    "from test_1 import Ui_Dialog\n",
    "import xlsxwriter\n",
    "app = QtWidgets.QApplication(sys.argv)\n",
    "MainWindow = QtWidgets.QMainWindow()\n",
    "ui = Ui_MainWindow()\n",
    "Dialog = QtWidgets.QDialog()\n",
    "di = Ui_Dialog()\n",
    "ui.setupUi(MainWindow)\n",
    "MainWindow.show()\n",
    "def view_BD ():\n",
    "    conn = pyodbc.connect('DSN=PostgreSQL30tel')\n",
    "    ui.tableWidget.setRowCount(0)\n",
    "    query = \"\"\"select u_id,fam.fam,name.name,otc.otc,street.street,bldn,b_corp,appr,tel\n",
    "    from main,fam,name,otc,street\n",
    "    where main.fam=fam.f_id\n",
    "    and main.name=name.n_id\n",
    "    and main.otc=otc.o_id\n",
    "    and main.street=street.s_id\"\"\"\n",
    "    result = conn.execute(query)\n",
    "    for row_number, row_data in enumerate(result):\n",
    "        ui.tableWidget.insertRow(row_number)\n",
    "        for column_number, data in enumerate(row_data):\n",
    "            ui.tableWidget.setItem(row_number, column_number, QtWidgets.QTableWidgetItem(str(data)))\n",
    "    conn.close()\n",
    "def transp():\n",
    "    fam = ui.textEdit.toPlainText()\n",
    "    name = ui.textEdit_2.toPlainText()\n",
    "    otc = ui.textEdit_3.toPlainText()\n",
    "    strt = ui.textEdit_6.toPlainText()\n",
    "    bldn = ui.textEdit_5.toPlainText()\n",
    "    corp = ui.textEdit_4.toPlainText()\n",
    "    app = ui.textEdit_7.toPlainText()\n",
    "    tel = ui.textEdit_8.toPlainText()\n",
    "    func.new_data(fam,name,otc,strt,bldn,corp,app,tel)\n",
    "    ui.textEdit.clear()\n",
    "    ui.textEdit_2.clear()\n",
    "    ui.textEdit_3.clear()\n",
    "    ui.textEdit_4.clear()\n",
    "    ui.textEdit_5.clear()\n",
    "    ui.textEdit_6.clear()\n",
    "    ui.textEdit_7.clear()\n",
    "    ui.textEdit_8.clear()\n",
    "def hi():\n",
    "    print (\"Hi\")\n",
    "ui.pushButton_2.clicked.connect( func.print_BD )\n",
    "ui.pushButton.clicked.connect( transp )\n",
    "ui.pushButton_3.clicked.connect( view_BD)\n",
    "di.b1.clicked.connect(hi)\n",
    "sys.exit(app.exec_())"
   ]
  },
  {
   "cell_type": "code",
   "execution_count": null,
   "metadata": {},
   "outputs": [],
   "source": []
  },
  {
   "cell_type": "code",
   "execution_count": null,
   "metadata": {},
   "outputs": [],
   "source": []
  },
  {
   "cell_type": "code",
   "execution_count": null,
   "metadata": {},
   "outputs": [],
   "source": []
  }
 ],
 "metadata": {
  "kernelspec": {
   "display_name": "Python 3",
   "language": "python",
   "name": "python3"
  },
  "language_info": {
   "codemirror_mode": {
    "name": "ipython",
    "version": 3
   },
   "file_extension": ".py",
   "mimetype": "text/x-python",
   "name": "python",
   "nbconvert_exporter": "python",
   "pygments_lexer": "ipython3",
   "version": "3.7.6"
  }
 },
 "nbformat": 4,
 "nbformat_minor": 4
}
